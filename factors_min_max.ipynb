{
 "cells": [
  {
   "cell_type": "code",
   "execution_count": 2,
   "metadata": {},
   "outputs": [
    {
     "name": "stdout",
     "output_type": "stream",
     "text": [
      "              Country      Region                 Date     Measure  \\\n",
      "0       United_States  Nationwide  2020-03-07 00:00:00         inf   \n",
      "1       United_States  Nationwide  2020-03-07 00:00:00  wastewater   \n",
      "2       United_States  Nationwide  2020-03-08 00:00:00         inf   \n",
      "3       United_States  Nationwide  2020-03-08 00:00:00  wastewater   \n",
      "4       United_States  Nationwide  2020-03-09 00:00:00         inf   \n",
      "...               ...         ...                  ...         ...   \n",
      "128789  United_States          AK           2024-04-18  wastewater   \n",
      "128790  United_States          AK           2024-04-19         inf   \n",
      "128791  United_States          AK           2024-04-19  wastewater   \n",
      "128792  United_States          AK           2024-04-20         inf   \n",
      "128793  United_States          AK           2024-04-20  wastewater   \n",
      "\n",
      "              Value  \n",
      "0       2497.251521  \n",
      "1          2.700000  \n",
      "2       5295.849118  \n",
      "3          5.800000  \n",
      "4       8094.446716  \n",
      "...             ...  \n",
      "128789   380.000000  \n",
      "128790   643.587785  \n",
      "128791   380.000000  \n",
      "128792   640.394338  \n",
      "128793   370.000000  \n",
      "\n",
      "[128794 rows x 5 columns]\n"
     ]
    }
   ],
   "source": [
    "# Nationwide\n",
    "import pandas as pd\n",
    "import requests\n",
    "from datetime import datetime, timedelta\n",
    "from math import log10, floor\n",
    "\n",
    "# Read the CSV into a pandas DataFrame, making sure to parse the first column as dates\n",
    "# Specify the correct date format if pandas does not recognize it automatically\n",
    "df = pd.read_csv(\"US_Biobot_nationwide_data_2024-04-29.csv\", skiprows=2, parse_dates=['Date'], usecols=[0, 1, 3], \n",
    "                 names=['Date', 'Location', 'Concentration'], \n",
    "                 date_parser=lambda x: pd.to_datetime(x, format='%Y-%m-%d'))\n",
    "\n",
    "# Clean non-numeric characters from the concentration column if necessary\n",
    "# For example, if there are commas in the numbers or there are strings like '<1'\n",
    "df['Concentration'] = pd.to_numeric(df['Concentration'].replace('[^0-9.]', '', regex=True), errors='coerce')\n",
    "\n",
    "# Filter the DataFrame for the 'Nationwide' location\n",
    "nationwide_df = df[df['Location'] == 'Nationwide'].sort_values('Date')\n",
    "\n",
    "# Interpolate the missing dates\n",
    "biob = nationwide_df.set_index('Date').resample('D').interpolate().reset_index()\n",
    "biob = biob[['Date', 'Concentration']]\n",
    "biob['Date'] = pd.to_datetime(biob['Date'])\n",
    "\n",
    "biob['estimated_infections'] = biob['Concentration'] * 915.6749186924305\n",
    "\n",
    "# Define a function to round a number to two significant digits\n",
    "def round_to_two_significant_digits(num):\n",
    "    if num == 0:\n",
    "        return 0\n",
    "    else:\n",
    "        # Calculate the number of digits to round to\n",
    "        round_digits = -int(floor(log10(abs(num)))) + 1\n",
    "        # Round the number\n",
    "        return round(num, round_digits)\n",
    "\n",
    "# Apply the rounding function to the relevant columns\n",
    "biob['Concentration'] = biob['Concentration'].apply(round_to_two_significant_digits)\n",
    "\n",
    "rows_list = []\n",
    "\n",
    "for index, row in biob.iterrows():\n",
    "        rows_list.append({'Country': 'United_States', 'Region': 'Nationwide', 'Date': row['Date'], 'Measure': 'inf', 'Value': row['estimated_infections']})\n",
    "        rows_list.append({'Country': 'United_States', 'Region': 'Nationwide', 'Date': row['Date'], 'Measure': 'wastewater', 'Value': row['Concentration']})\n",
    "\n",
    "combined_df = pd.concat([pd.DataFrame(rows_list)], ignore_index=True)\n",
    "states_df = pd.read_csv('US_states_min.csv')\n",
    "\n",
    "final_combined_df = pd.concat([combined_df, states_df], ignore_index=True)\n",
    "\n",
    "final_combined_df.to_json('United_States_states_min.json', orient='records', date_format='iso')\n",
    "final_combined_df.to_csv('United_States_states_min.csv', index=False)\n",
    "print(final_combined_df)"
   ]
  },
  {
   "cell_type": "code",
   "execution_count": 2,
   "metadata": {},
   "outputs": [
    {
     "name": "stdout",
     "output_type": "stream",
     "text": [
      "           Date  Concentration\n",
      "0    2020-03-07       2.727225\n",
      "1    2020-03-08       5.783547\n",
      "2    2020-03-09       8.839869\n",
      "3    2020-03-10      11.896192\n",
      "4    2020-03-11      14.952514\n",
      "...         ...            ...\n",
      "1473 2024-03-19     435.058070\n",
      "1474 2024-03-20     420.137354\n",
      "1475 2024-03-21     405.216637\n",
      "1476 2024-03-22     390.295921\n",
      "1477 2024-03-23     375.375205\n",
      "\n",
      "[1478 rows x 2 columns]\n"
     ]
    }
   ],
   "source": []
  },
  {
   "cell_type": "code",
   "execution_count": 9,
   "metadata": {},
   "outputs": [
    {
     "name": "stdout",
     "output_type": "stream",
     "text": [
      "            Country      Region       Date     Measure          Value\n",
      "0     United_States  Nationwide 2020-03-07         inf    2497.251521\n",
      "1     United_States  Nationwide 2020-03-07  wastewater       2.700000\n",
      "2     United_States  Nationwide 2020-03-08         inf    5295.849118\n",
      "3     United_States  Nationwide 2020-03-08  wastewater       5.800000\n",
      "4     United_States  Nationwide 2020-03-09         inf    8094.446716\n",
      "...             ...         ...        ...         ...            ...\n",
      "2951  United_States  Nationwide 2024-03-21  wastewater     410.000000\n",
      "2952  United_States  Nationwide 2024-03-22         inf  357384.185789\n",
      "2953  United_States  Nationwide 2024-03-22  wastewater     390.000000\n",
      "2954  United_States  Nationwide 2024-03-23         inf  343721.660173\n",
      "2955  United_States  Nationwide 2024-03-23  wastewater     380.000000\n",
      "\n",
      "[2956 rows x 5 columns]\n"
     ]
    }
   ],
   "source": []
  }
 ],
 "metadata": {
  "kernelspec": {
   "display_name": "Python 3",
   "language": "python",
   "name": "python3"
  },
  "language_info": {
   "codemirror_mode": {
    "name": "ipython",
    "version": 3
   },
   "file_extension": ".py",
   "mimetype": "text/x-python",
   "name": "python",
   "nbconvert_exporter": "python",
   "pygments_lexer": "ipython3",
   "version": "3.10.4"
  }
 },
 "nbformat": 4,
 "nbformat_minor": 2
}
